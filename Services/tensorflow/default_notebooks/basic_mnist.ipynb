{
 "cells": [
  {
   "cell_type": "code",
   "execution_count": 1,
   "metadata": {},
   "outputs": [],
   "source": [
    "import pandas as pd\n",
    "import numpy as np\n",
    "import tensorflow as tf\n",
    "from sklearn.model_selection import train_test_split\n",
    "import json\n",
    "import os"
   ]
  },
  {
   "cell_type": "code",
   "execution_count": 2,
   "metadata": {},
   "outputs": [],
   "source": [
    "all_data=pd.read_csv('/eslap/legacy/mnist.csv')\n",
    "train,test=train_test_split(all_data,test_size=0.25)\n",
    "del all_data \n",
    "batch_size=128\n",
    "num_batches=int(train.shape[0]/batch_size)"
   ]
  },
  {
   "cell_type": "code",
   "execution_count": 3,
   "metadata": {},
   "outputs": [],
   "source": [
    "def to_one_hot(targets,num_classes):\n",
    "    aux = np.zeros((targets.shape[0], num_classes))\n",
    "    aux[np.arange(targets.shape[0]), targets] = 1\n",
    "    return aux"
   ]
  },
  {
   "cell_type": "code",
   "execution_count": 4,
   "metadata": {},
   "outputs": [
    {
     "data": {
      "text/plain": [
       "((31500, 784), (31500, 10), (10500, 784), (10500, 10))"
      ]
     },
     "execution_count": 4,
     "metadata": {},
     "output_type": "execute_result"
    }
   ],
   "source": [
    "Y_train = to_one_hot(train['label'].values, num_classes = 10)\n",
    "Y_test = to_one_hot(test['label'].values, num_classes = 10)\n",
    "X_train = train.drop(labels = ['label'],axis = 1).values/255.0\n",
    "X_test= test.drop(labels = ['label'],axis = 1).values/255.0\n",
    "X_train.shape,Y_train.shape,X_test.shape,Y_test.shape"
   ]
  },
  {
   "cell_type": "code",
   "execution_count": 16,
   "metadata": {},
   "outputs": [],
   "source": [
    "# Set parameters\n",
    "learning_rate = 0.001\n",
    "training_iteration = 30\n",
    "batch_size = 128\n",
    "display_step = 2\n",
    "\n",
    "# TF graph input\n",
    "x = tf.placeholder(tf.float64, [None, 784]) # mnist data image of shape 28*28=784\n",
    "y = tf.placeholder(tf.float64, [None, 10]) # 0-9 digits recognition => 10 classes\n",
    "\n",
    "W_1 = tf.Variable(tf.truncated_normal([784, 64],dtype=tf.float64))\n",
    "b_1 = tf.Variable(tf.zeros([64],dtype=tf.float64))\n",
    "    \n",
    "W_2 = tf.Variable(tf.truncated_normal([64, 10],dtype=tf.float64))\n",
    "b_2 = tf.Variable(tf.zeros([10],dtype=tf.float64))\n",
    "\n",
    "\n",
    "# Construct a linear model\n",
    "h_1=tf.nn.relu(tf.matmul(x, W_1) + b_1)\n",
    "h_2=tf.matmul(h_1, W_2) + b_2\n",
    "model = tf.nn.softmax(h_2)  # Softmax\n",
    "\n",
    "loss = -tf.reduce_sum(y*tf.log(model))\n",
    "\n",
    "predictions = tf.equal(tf.argmax(model, 1), tf.argmax(y, 1))\n",
    "accuracy = tf.reduce_mean(tf.cast(predictions, \"float\"))\n",
    "\n",
    "train_step = tf.train.GradientDescentOptimizer(learning_rate).minimize(loss)\n",
    "\n",
    "init = tf.global_variables_initializer()\n"
   ]
  },
  {
   "cell_type": "code",
   "execution_count": 19,
   "metadata": {},
   "outputs": [
    {
     "name": "stdout",
     "output_type": "stream",
     "text": [
      "Iteration:0 training loss= 350.058426 training accuracy= 0.760246 test accuracy= 0.800571\n",
      "Iteration:1 training loss= 98.898536 training accuracy= 0.848901 test accuracy= 0.824000\n",
      "Iteration:2 training loss= 70.398827 training accuracy= 0.868419 test accuracy= 0.839048\n",
      "Iteration:3 training loss= 58.200318 training accuracy= 0.880836 test accuracy= 0.848381\n",
      "Iteration:4 training loss= 51.146387 training accuracy= 0.892041 test accuracy= 0.857238\n",
      "Iteration:5 training loss= 46.342218 training accuracy= 0.899886 test accuracy= 0.863619\n",
      "Iteration:6 training loss= 42.767478 training accuracy= 0.906457 test accuracy= 0.868857\n",
      "Iteration:7 training loss= 40.014080 training accuracy= 0.912110 test accuracy= 0.873524\n",
      "Iteration:8 training loss= 37.752347 training accuracy= 0.916874 test accuracy= 0.877905\n",
      "Iteration:9 training loss= 35.823030 training accuracy= 0.920939 test accuracy= 0.882286\n",
      "Iteration:10 training loss= 34.155328 training accuracy= 0.925226 test accuracy= 0.885429\n",
      "Iteration:11 training loss= 32.678270 training accuracy= 0.928465 test accuracy= 0.888286\n",
      "Iteration:12 training loss= 31.394331 training accuracy= 0.931514 test accuracy= 0.891048\n",
      "Iteration:13 training loss= 30.246815 training accuracy= 0.933512 test accuracy= 0.894381\n",
      "Iteration:14 training loss= 29.203179 training accuracy= 0.935894 test accuracy= 0.896952\n",
      "Iteration:15 training loss= 28.238206 training accuracy= 0.938114 test accuracy= 0.899333\n",
      "Iteration:16 training loss= 27.361563 training accuracy= 0.939797 test accuracy= 0.901524\n",
      "Training completed!\n"
     ]
    }
   ],
   "source": [
    "# Launch the graph\n",
    "with tf.Session() as sess:\n",
    "    sess.run(init)\n",
    "    # Training cycle\n",
    "    epsilon=0.9\n",
    "    test_acc = 0.0\n",
    "    iteration=0\n",
    "    while test_acc < epsilon and iteration < 30:\n",
    "        avg_acc = 0.0\n",
    "        avg_cost = 0.0\n",
    "        for i in range(num_batches):\n",
    "            lower_index=batch_size*i\n",
    "            if i==num_batches-1:\n",
    "                batch = X_train[lower_index:]\n",
    "                batch_labels=Y_train[lower_index:]\n",
    "            else:\n",
    "                upper_index=batch_size*(i+1)\n",
    "                batch = X_train[lower_index:upper_index]\n",
    "                batch_labels=Y_train[lower_index:upper_index]\n",
    "            \n",
    "            sess.run(train_step, feed_dict={x: batch, y: batch_labels})\n",
    "            \n",
    "            #print(sess.run(W_1))\n",
    "            avg_cost += sess.run(loss, feed_dict={x: batch, y: batch_labels})/float(num_batches)\n",
    "            avg_acc += sess.run(accuracy, feed_dict={x: batch, y: batch_labels})/float(num_batches)\n",
    "            \n",
    "        test_loss = sess.run(loss, feed_dict={x: X_test, y: Y_test})\n",
    "        test_acc = sess.run(accuracy, feed_dict={x: X_test, y: Y_test})\n",
    "        \n",
    "        print (\"Iteration:%d\"%iteration, \"training loss= %f\"%avg_cost, \"training accuracy= %f\"%avg_acc,\\\n",
    "               \"test accuracy= %f\"%test_acc)\n",
    "        iteration+=1\n",
    "        \n",
    "    print(\"Training completed!\")\n"
   ]
  }
 ],
 "metadata": {
  "kernelspec": {
   "display_name": "Python 3",
   "language": "python",
   "name": "python3"
  },
  "language_info": {
   "codemirror_mode": {
    "name": "ipython",
    "version": 3
   },
   "file_extension": ".py",
   "mimetype": "text/x-python",
   "name": "python",
   "nbconvert_exporter": "python",
   "pygments_lexer": "ipython3",
   "version": "3.6.5"
  }
 },
 "nbformat": 4,
 "nbformat_minor": 2
}
